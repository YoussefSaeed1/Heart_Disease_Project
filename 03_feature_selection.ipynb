{
 "cells": [
  {
   "cell_type": "markdown",
   "id": "34b9ff5b",
   "metadata": {},
   "source": [
    "# 03 – Feature Selection\n",
    "\n",
    "Feature importance (RF/XGBoost), RFE, and Chi‑square selection.\n"
   ]
  },
  {
   "cell_type": "code",
   "execution_count": 4,
   "id": "0595465a",
   "metadata": {},
   "outputs": [
    {
     "name": "stdout",
     "output_type": "stream",
     "text": [
      "Shape after cleaning: (303, 14)\n",
      "Target distribution:\n",
      " target\n",
      "0    164\n",
      "1    139\n",
      "Name: count, dtype: int64\n",
      "Any NaNs left after imputation? False\n",
      "\n",
      "Top 20 RandomForest Feature Importances:\n",
      "cp: 0.1273\n",
      "ca: 0.1244\n",
      "thalach: 0.1203\n",
      "thal: 0.1156\n",
      "oldpeak: 0.1052\n",
      "age: 0.0865\n",
      "chol: 0.0841\n",
      "trestbps: 0.0715\n",
      "exang: 0.0575\n",
      "slope: 0.0447\n",
      "sex: 0.0328\n",
      "restecg: 0.0195\n",
      "fbs: 0.0104\n"
     ]
    },
    {
     "data": {
      "image/png": "[encoded data removed]",
      "text/plain": [
       "<Figure size 800x500 with 1 Axes>"
      ]
     },
     "metadata": {},
     "output_type": "display_data"
    },
    {
     "name": "stdout",
     "output_type": "stream",
     "text": [
      "\n",
      "RFE selected features: ['sex', 'cp', 'trestbps', 'fbs', 'restecg', 'exang', 'oldpeak', 'slope', 'ca', 'thal']\n",
      "\n",
      "Chi-square selected features: ['age', 'sex', 'cp', 'restecg', 'thalach', 'exang', 'oldpeak', 'slope', 'ca', 'thal']\n"
     ]
    }
   ],
   "source": [
    "# --- Imports ---\n",
    "import os, pandas as pd, numpy as np, matplotlib.pyplot as plt\n",
    "from sklearn.compose import ColumnTransformer\n",
    "from sklearn.preprocessing import OneHotEncoder, MinMaxScaler\n",
    "from sklearn.impute import SimpleImputer\n",
    "from sklearn.ensemble import RandomForestClassifier\n",
    "from sklearn.feature_selection import RFE, SelectKBest, chi2\n",
    "from sklearn.linear_model import LogisticRegression\n",
    "\n",
    "# --- 1. Load and clean the .data file ---\n",
    "file_path = '../data/heart_disease.data'  # adjust this path\n",
    "df = pd.read_csv(file_path, header=None)\n",
    "\n",
    "# Add column names from UCI dataset\n",
    "df.columns = [\n",
    "    \"age\",\"sex\",\"cp\",\"trestbps\",\"chol\",\"fbs\",\"restecg\",\n",
    "    \"thalach\",\"exang\",\"oldpeak\",\"slope\",\"ca\",\"thal\",\"num\"\n",
    "]\n",
    "\n",
    "# Replace '?' with NaN and convert to numeric\n",
    "df = df.replace('?', np.nan)\n",
    "for col in df.columns:\n",
    "    df[col] = pd.to_numeric(df[col], errors='coerce')\n",
    "\n",
    "# Drop rows where target ('num') is missing and create binary target\n",
    "df = df.dropna(subset=['num'])\n",
    "df['target'] = (df['num'] > 0).astype(int)\n",
    "df = df.drop(columns=['num'])\n",
    "\n",
    "print(\"Shape after cleaning:\", df.shape)\n",
    "print(\"Target distribution:\\n\", df['target'].value_counts())\n",
    "\n",
    "# --- 2. Prepare features and target ---\n",
    "X = df.drop(columns=['target'])\n",
    "y = df['target']\n",
    "\n",
    "# Identify numeric and categorical features\n",
    "num_features = X.select_dtypes(include=np.number).columns.tolist()\n",
    "cat_features = [c for c in X.columns if c not in num_features]\n",
    "\n",
    "# --- 3. One-hot encoding ---\n",
    "pre_onehot = ColumnTransformer([\n",
    "    (\"num\", \"passthrough\", num_features),\n",
    "    (\"cat\", OneHotEncoder(handle_unknown=\"ignore\"), cat_features)\n",
    "])\n",
    "\n",
    "X_enc = pre_onehot.fit_transform(X)\n",
    "\n",
    "# Retrieve feature names\n",
    "cat_feature_names = []\n",
    "if cat_features:\n",
    "    cat_feature_names = list(pre_onehot.named_transformers_['cat'].get_feature_names_out(cat_features))\n",
    "feature_names = list(num_features) + cat_feature_names\n",
    "\n",
    "# --- 4. Impute missing values after encoding ---\n",
    "X_dense = X_enc.toarray() if hasattr(X_enc, \"toarray\") else X_enc\n",
    "imputer = SimpleImputer(strategy=\"median\")\n",
    "X_no_nan = imputer.fit_transform(X_dense)\n",
    "\n",
    "print(\"Any NaNs left after imputation?\", np.isnan(X_no_nan).any())\n",
    "\n",
    "# --- 5. RandomForest Feature Importances ---\n",
    "rf = RandomForestClassifier(n_estimators=300, random_state=42)\n",
    "rf.fit(X_no_nan, y)\n",
    "importances = rf.feature_importances_\n",
    "\n",
    "imp_sorted = sorted(zip(feature_names, importances), key=lambda x: x[1], reverse=True)[:20]\n",
    "print(\"\\nTop 20 RandomForest Feature Importances:\")\n",
    "for name, val in imp_sorted:\n",
    "    print(f\"{name}: {val:.4f}\")\n",
    "\n",
    "# Plot top 20 feature importances\n",
    "names, vals = zip(*imp_sorted)\n",
    "plt.figure(figsize=(8,5))\n",
    "plt.barh(names[::-1], vals[::-1])\n",
    "plt.title(\"Top 20 Feature Importances (RandomForest)\")\n",
    "plt.xlabel(\"Importance\")\n",
    "plt.tight_layout()\n",
    "plt.show()\n",
    "\n",
    "# --- 6. RFE with Logistic Regression ---\n",
    "lr = LogisticRegression(max_iter=2000)\n",
    "rfe = RFE(lr, n_features_to_select=min(10, X_no_nan.shape[1]))\n",
    "rfe.fit(X_no_nan, y)\n",
    "selected_rfe = [feature_names[i] for i, s in enumerate(rfe.support_) if s]\n",
    "print(\"\\nRFE selected features:\", selected_rfe)\n",
    "\n",
    "# --- 7. Chi-square Feature Selection ---\n",
    "scaler = MinMaxScaler()\n",
    "X_nonneg = scaler.fit_transform(X_no_nan)\n",
    "chi = SelectKBest(chi2, k=min(10, X_nonneg.shape[1]))\n",
    "chi.fit(X_nonneg, y)\n",
    "selected_chi = [feature_names[i] for i in chi.get_support(indices=True)]\n",
    "print(\"\\nChi-square selected features:\", selected_chi)\n"
   ]
  }
 ],
 "metadata": {
  "kernelspec": {
   "display_name": ".venv (3.12.4)",
   "language": "python",
   "name": "python3"
  },
  "language_info": {
   "codemirror_mode": {
    "name": "ipython",
    "version": 3
   },
   "file_extension": ".py",
   "mimetype": "text/x-python",
   "name": "python",
   "nbconvert_exporter": "python",
   "pygments_lexer": "ipython3",
   "version": "3.12.4"
  }
 },
 "nbformat": 4,
 "nbformat_minor": 5
}
